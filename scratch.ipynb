{
 "cells": [
  {
   "attachments": {},
   "cell_type": "markdown",
   "metadata": {},
   "source": [
    "# This is just junk that I want to keep around while I'm experimenting."
   ]
  },
  {
   "cell_type": "code",
   "execution_count": 11,
   "metadata": {},
   "outputs": [
    {
     "name": "stdout",
     "output_type": "stream",
     "text": [
      "Collecting markdownify\n",
      "  Downloading markdownify-0.11.6-py3-none-any.whl (16 kB)\n",
      "Requirement already satisfied: six<2,>=1.15 in /opt/homebrew/lib/python3.10/site-packages (from markdownify) (1.16.0)\n",
      "Requirement already satisfied: beautifulsoup4<5,>=4.9 in /opt/homebrew/lib/python3.10/site-packages (from markdownify) (4.11.1)\n",
      "Requirement already satisfied: soupsieve>1.2 in /opt/homebrew/lib/python3.10/site-packages (from beautifulsoup4<5,>=4.9->markdownify) (2.3.2.post1)\n",
      "Installing collected packages: markdownify\n",
      "Successfully installed markdownify-0.11.6\n",
      "Note: you may need to restart the kernel to use updated packages.\n"
     ]
    }
   ],
   "source": [
    "%pip install markdownify"
   ]
  },
  {
   "cell_type": "code",
   "execution_count": 12,
   "metadata": {},
   "outputs": [],
   "source": [
    "import requests\n",
    "import markdownify"
   ]
  },
  {
   "cell_type": "code",
   "execution_count": 20,
   "metadata": {},
   "outputs": [],
   "source": [
    "resp = requests.get('http://blog.jnbrymn.com/2022/01/01/evolution-of-jiggly-stuff.html')"
   ]
  },
  {
   "cell_type": "code",
   "execution_count": 21,
   "metadata": {},
   "outputs": [
    {
     "name": "stdout",
     "output_type": "stream",
     "text": [
      "\n",
      "\n",
      "\n",
      "\n",
      "\n",
      "\n",
      "\n",
      "\n",
      "\n",
      " \n",
      " Evolution of Jiggly Stuff · Thought Box\n",
      " \n",
      " \n",
      "\n",
      "\n",
      "\n",
      "\n",
      "\n",
      "\n",
      "\n",
      "\n",
      "\n",
      " (function(i,s,o,g,r,a,m){i['GoogleAnalyticsObject']=r;i[r]=i[r]||function(){\n",
      " (i[r].q=i[r].q||[]).push(arguments)},i[r].l=1\\*new Date();a=s.createElement(o),\n",
      " m=s.getElementsByTagName(o)[0];a.async=1;a.src=g;m.parentNode.insertBefore(a,m)\n",
      " })(window,document,'script','//www.google-analytics.com/analytics.js','ga');\n",
      "\n",
      " ga('create', 'UA-53291808-1', 'auto');\n",
      " ga('send', 'pageview');\n",
      " \n",
      "\n",
      "\n",
      "\n",
      "\n",
      "\n",
      "\n",
      "\n",
      "\n",
      "\n",
      "\n",
      "# \n",
      "Thought Box\n",
      "\n",
      "\n",
      "Life on the Pareto Frontier\n",
      "\n",
      "\n",
      "\n",
      "\n",
      "Home\n",
      "[About](/about.html)\n",
      "[Download](/archive/v.zip)\n",
      "GitHub project\n",
      "Currently v\n",
      "\n",
      "© 2022. All rights reserved.\n",
      "\n",
      "\n",
      "\n",
      "\n",
      "\n",
      "\n",
      "# Evolution of Jiggly Stuff\n",
      "\n",
      "\n",
      "01 Jan 2022\n",
      "I like positing hypotheses that are completely unverified and poorly examined. Why? Because it’s easier to play with ideas when you don’t have to check your work. 🤣 Here are two somewhat related hypotheses about how evolution has made two very different jiggly things more durable and resistant to distress: your brain and trees.\n",
      "\n",
      "\n",
      "## The Brain and its Ventricles\n",
      "\n",
      "\n",
      "\n",
      "![missing](/assets/john_brain.png)\n",
      "\n",
      "Look at this beautiful brain. [It’s mine!](/2017/09/27/brain-scans.html) But for the sake of this conversation, notice what’s missing from my brain… all the stuff in the middle. That’s ok though, the missing part are the ventricles of the brain, they’re supposed to be there… ur, *not* there… and I propose that the missing part provides a structural benefit. Why? Well the brain is effectively a big block of super important thinking tofu, and if the thinking tofu breaks, then it doesn’t work so well. But the problem is that humans have historically been a bunch of nuckleheads. We break boards over our heads and devise silly sports where we ram our heads into one another at high speeds. For some sports we just directly punch one another in the heads. This is where the ventricles are important. If the ventricles were instead filled in with brain material, then I posit that a sudden strike to the head, especially a torsional strike, would result in maximum sheer right in the middle of the brain and it would easily rupture the thinking tofu. But if there is no material in the middle of the brain, then the stress that *would* be focused in the middle of the brain is instead distributed across the surface of the ventricles. Thus the thinking tofu is much less likely to get fractured when you are struck in the head. Fantastic, now we can enjoy our violent sports and worry about the damage we’re doing years later.\n",
      "\n",
      "\n",
      "## Trees and their Branches and their Twigs\n",
      "\n",
      "\n",
      "\n",
      "![missing](/assets/bradford-pear.jpeg)\n",
      "\n",
      "During bad storms, (of which Tennessee has had quite a few recently), I enjoy watching the way the wind blows the trees because I suspect that this is another example of how nature has evolved towards building a structure that is robust. Twigs vibrate; they’re like springs. And just like springs, they have a natural frequency. And if you happened to excite the twigs at some point near to their natural frequency, then the tendency would be for the twig’s vibrations to increase in amplitude. (For the sake of argument, I’m ignoring the effects of damping.) Twigs are attached to limbs, limbs are attached to larger branches, and branches are attached to the trunk. Now consider an extreme situation: what if the trunk, branches, limbs, and twigs in a tree were structured such that the natural frequency at any level of the hierarchy was tuned to be harmonically resonant with the previous level? In this situation, if a breeze caused the trunk of the tree to gently sway, then this would cause the branches to oscillate in a higher frequency resonance, which would in turn cause their limbs to oscillate at a higher frequency, and then cause the twigs to vibrate violently. If there was insufficient damping, then a persistent breeze with the right frequency content would cause the tree to literally shake itself apart. But, evolution has ensured that trees aren’t tuned this way. Any tree that was so “perfectly” tuned would also be more likely to lose branches and therefore be less likely to produce offspring. Instead, I propose that evolutionary pressures have tended to optimize the structure of trees toward the opposite situation. Rather than each level being in perfect resonance with the lower level, my bet is that they have evolved to be perfectly *out* of resonance with lower levels. That is, when the trunk vibrates, it sets the limbs into motion in such a way that the energy is quickly dissipated from the tree, making it less likely for the trunk to break or for large limbs to break out of the tree. Bradford Pear Trees (pictured above) obviously didn’t get the memo.\n",
      "\n",
      "\n",
      "\n",
      "\n",
      "\n",
      " /\\* \\* \\* CONFIGURATION VARIABLES: EDIT BEFORE PASTING INTO YOUR WEBPAGE \\* \\* \\*/\n",
      " var disqus\\_shortname = 'jnbrymn'; // required: replace example with your forum shortname\n",
      "\n",
      " /\\* \\* \\* DON'T EDIT BELOW THIS LINE \\* \\* \\*/\n",
      " (function() {\n",
      " var dsq = document.createElement('script'); dsq.type = 'text/javascript'; dsq.async = true;\n",
      " dsq.src = '//' + disqus\\_shortname + '.disqus.com/embed.js';\n",
      " (document.getElementsByTagName('head')[0] || document.getElementsByTagName('body')[0]).appendChild(dsq);\n",
      " })();\n",
      "\n",
      "Please enable JavaScript to view the [comments powered by Disqus.](http://disqus.com/?ref_noscript)\n",
      "[comments powered by Disqus](http://disqus.com)\n",
      "\n",
      "## Related Posts\n",
      "\n",
      "\n",
      "* ### \n",
      "[Train Whistles\n",
      " 29 Nov 2022](/2022/11/29/train-whistles.html)\n",
      "* ### \n",
      "[Playing with a Rational Distribution\n",
      " 11 Sep 2022](/2022/09/11/rational-distribution.html)\n",
      "* ### \n",
      "[\"Who da Boss\" Graph Clustering\n",
      " 07 Aug 2022](/2022/08/07/who-da-boss-clustering.html)\n",
      "\n",
      "\n",
      "\n",
      "\n",
      "/\\* \\* \\* CONFIGURATION VARIABLES: EDIT BEFORE PASTING INTO YOUR WEBPAGE \\* \\* \\*/\n",
      "var disqus\\_shortname = 'jnbrymn'; // required: replace example with your forum shortname\n",
      "\n",
      "/\\* \\* \\* DON'T EDIT BELOW THIS LINE \\* \\* \\*/\n",
      "(function () {\n",
      " var s = document.createElement('script'); s.async = true;\n",
      " s.type = 'text/javascript';\n",
      " s.src = '//' + disqus\\_shortname + '.disqus.com/count.js';\n",
      " (document.getElementsByTagName('HEAD')[0] || document.getElementsByTagName('BODY')[0]).appendChild(s);\n",
      "}());\n",
      "\n",
      "\n",
      "\n",
      "\n",
      "\n"
     ]
    }
   ],
   "source": [
    "print(markdownify.markdownify(resp.text, heading_style=\"ATX\"))"
   ]
  },
  {
   "cell_type": "code",
   "execution_count": 16,
   "metadata": {},
   "outputs": [
    {
     "name": "stdout",
     "output_type": "stream",
     "text": [
      "\u001b[0;31mSignature:\u001b[0m \u001b[0mmarkdownify\u001b[0m\u001b[0;34m.\u001b[0m\u001b[0mmarkdownify\u001b[0m\u001b[0;34m(\u001b[0m\u001b[0mhtml\u001b[0m\u001b[0;34m,\u001b[0m \u001b[0;34m**\u001b[0m\u001b[0moptions\u001b[0m\u001b[0;34m)\u001b[0m\u001b[0;34m\u001b[0m\u001b[0;34m\u001b[0m\u001b[0m\n",
      "\u001b[0;31mDocstring:\u001b[0m <no docstring>\n",
      "\u001b[0;31mFile:\u001b[0m      /opt/homebrew/lib/python3.10/site-packages/markdownify/__init__.py\n",
      "\u001b[0;31mType:\u001b[0m      function\n"
     ]
    }
   ],
   "source": [
    "markdownify.markdownify?"
   ]
  },
  {
   "cell_type": "code",
   "execution_count": 81,
   "metadata": {},
   "outputs": [
    {
     "name": "stdout",
     "output_type": "stream",
     "text": [
      "speech='What are yout talking about?\\n'\n",
      "code=None\n"
     ]
    }
   ],
   "source": [
    "import re\n",
    "\n",
    "resp1 = '''\n",
    "I will increase the temperature by 3 degrees.\n",
    "```python\n",
    "current_temp = get_temperature()\n",
    "new_temp = current_temp + 3.0\n",
    "setTemperature(new_temp)\n",
    "```\n",
    "'''\n",
    "\n",
    "resp2 = '''\n",
    "What are yout talking about?\n",
    "'''\n",
    "\n",
    "resp3 = '\\nI will increase the temperature by 5 degrees.\\n```python\\ncurrent_temp = get_temperature()\\nnew_temp = current_temp + 5.0\\nset_temperature(new_temp)\\n```'\n",
    "\n",
    "resp_re = re.compile(r'\\s*([^`]+)\\s*?(```python\\s*(.+)\\s*```\\s*)?', re.DOTALL)\n",
    "\n",
    "match = resp_re.match(resp2)\n",
    "if not match:\n",
    "    raise Exception('Unexpected completion format. No match.')\n",
    "\n",
    "speech = match.group(1)\n",
    "code = match.group(3)\n",
    "\n",
    "print(f'{speech=}')\n",
    "print(f'{code=}')\n"
   ]
  },
  {
   "cell_type": "code",
   "execution_count": 56,
   "metadata": {},
   "outputs": [
    {
     "data": {
      "text/plain": [
       "'current_temp = get_temperature()\\nnew_temp = current_temp + 3.0\\nsetTemperature(new_temp)\\n'"
      ]
     },
     "execution_count": 56,
     "metadata": {},
     "output_type": "execute_result"
    }
   ],
   "source": [
    "code"
   ]
  },
  {
   "cell_type": "code",
   "execution_count": 57,
   "metadata": {},
   "outputs": [],
   "source": [
    "import ast"
   ]
  },
  {
   "cell_type": "code",
   "execution_count": 65,
   "metadata": {},
   "outputs": [
    {
     "data": {
      "text/plain": [
       "[]"
      ]
     },
     "execution_count": 65,
     "metadata": {},
     "output_type": "execute_result"
    }
   ],
   "source": [
    "# parse the code\n",
    "tree = ast.parse(code)\n",
    "branch = tree.body[0]"
   ]
  },
  {
   "cell_type": "code",
   "execution_count": 54,
   "metadata": {},
   "outputs": [],
   "source": [
    "parse.body[0]"
   ]
  },
  {
   "cell_type": "code",
   "execution_count": 68,
   "metadata": {},
   "outputs": [
    {
     "name": "stdout",
     "output_type": "stream",
     "text": [
      "Bob\n"
     ]
    }
   ],
   "source": [
    "class Thing:\n",
    "    def __init__(self, name):\n",
    "        self.name = name\n",
    "\n",
    "    def say_name(self):\n",
    "        print(self.name)\n",
    "\n",
    "thing = Thing('Bob')\n",
    "\n",
    "eval('thing.say_name()')"
   ]
  },
  {
   "cell_type": "code",
   "execution_count": null,
   "metadata": {},
   "outputs": [],
   "source": []
  }
 ],
 "metadata": {
  "kernelspec": {
   "display_name": "Python 3",
   "language": "python",
   "name": "python3"
  },
  "language_info": {
   "codemirror_mode": {
    "name": "ipython",
    "version": 3
   },
   "file_extension": ".py",
   "mimetype": "text/x-python",
   "name": "python",
   "nbconvert_exporter": "python",
   "pygments_lexer": "ipython3",
   "version": "3.10.8"
  },
  "orig_nbformat": 4,
  "vscode": {
   "interpreter": {
    "hash": "eda7e54fe21129b67f77862937907ee926f057597a3e2fa1e18ac955e40912b3"
   }
  }
 },
 "nbformat": 4,
 "nbformat_minor": 2
}
